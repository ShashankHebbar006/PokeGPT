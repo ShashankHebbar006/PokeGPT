{
 "cells": [
  {
   "cell_type": "code",
   "execution_count": 42,
   "metadata": {},
   "outputs": [
    {
     "name": "stderr",
     "output_type": "stream",
     "text": [
      "C:\\Users\\shash\\AppData\\Local\\Temp\\ipykernel_17608\\4023250923.py:12: DeprecationWarning: executable_path has been deprecated, please pass in a Service object\n",
      "  driver = webdriver.Chrome(ChromeDriverManager().install())\n"
     ]
    }
   ],
   "source": [
    "from bs4 import BeautifulSoup\n",
    "from selenium import webdriver\n",
    "from webdriver_manager.chrome import ChromeDriverManager\n",
    "from selenium.webdriver.common.by import By\n",
    "from selenium.webdriver.common.keys import Keys\n",
    "import time\n",
    "\n",
    "import requests\n",
    "import html5lib\n",
    "import re\n",
    "\n",
    "driver = webdriver.Chrome(ChromeDriverManager().install())"
   ]
  },
  {
   "cell_type": "code",
   "execution_count": 43,
   "metadata": {},
   "outputs": [],
   "source": [
    "def call_bs4(url):\n",
    "    req = requests.get(url)\n",
    "    soup = BeautifulSoup(req.content,'html5lib')\n",
    "    return soup"
   ]
  },
  {
   "cell_type": "code",
   "execution_count": 44,
   "metadata": {},
   "outputs": [],
   "source": [
    "mainpage_url = \"https://www.smogon.com/dex/\"\n",
    "mainpage_text = call_bs4(mainpage_url)"
   ]
  },
  {
   "cell_type": "code",
   "execution_count": 45,
   "metadata": {},
   "outputs": [],
   "source": [
    "input_string = str(mainpage_text.find_all('ul')[0])\n",
    "l = [line for line in input_string.split() if 'href' in line]\n",
    "\n",
    "v_pattern = \"\\\"[\\/[a-z]+\"\n",
    "k_pattern = \"[A-Z][a-z]*\\/[A-Z][a-z]*\"\n",
    "d = {}\n",
    "\n",
    "for line in input_string.split():\n",
    "    white_space = \" \"\n",
    "    if 'href' in line:\n",
    "        # print(line)\n",
    "        k_match = re.search(k_pattern,line)\n",
    "        v_match = re.search(v_pattern,line)\n",
    "        if k_match and v_match:\n",
    "            d[k_match.group()] = v_match.group().strip('\"')"
   ]
  },
  {
   "cell_type": "code",
   "execution_count": 46,
   "metadata": {},
   "outputs": [],
   "source": [
    "l = []\n",
    "\n",
    "for k,v in d.items():\n",
    "    # print(f\"{k} ---> {v}\")\n",
    "    gen_url = \"https://www.smogon.com\"+v\n",
    "    \n",
    "    driver.get(gen_url)\n",
    "    body = driver.find_element(By.TAG_NAME,'body')\n",
    "    for _ in range(150):\n",
    "        body.send_keys(Keys.PAGE_DOWN)\n",
    "        time.sleep(2)\n",
    "\n",
    "        html_text = driver.page_source\n",
    "        soup = BeautifulSoup(html_text,'html5lib')\n",
    "\n",
    "        pokemon_data = soup.find_all('div',class_='PokemonAltRow')\n",
    "        for element in pokemon_data:\n",
    "            l.append(element)\n",
    "\n",
    "    driver.quit()\n",
    "\n",
    "    # gen_text = BeautifulSoup(html_text,'html5lib')\n",
    "    # print(gen_text.prettify())\n",
    "    \n",
    "    break"
   ]
  },
  {
   "cell_type": "code",
   "execution_count": null,
   "metadata": {},
   "outputs": [
    {
     "data": {
      "text/plain": [
       "<div class=\"PokemonAltRow DexNonstd\" data-reactid=\".0.1.1.3.$14831\"><div class=\"PokemonAltRow-name\" data-reactid=\".0.1.1.3.$14831.0\"><a data-reactid=\".0.1.1.3.$14831.0.0\" href=\"/dex/sv/pokemon/zygarde-complete/\"><span data-reactid=\".0.1.1.3.$14831.0.0.0\"><span class=\"PokemonSprite is-normalized-width\" data-reactid=\".0.1.1.3.$14831.0.0.0.0\"><span class=\"sprite-zygarde-complete\" data-reactid=\".0.1.1.3.$14831.0.0.0.0.0\"></span></span><span data-reactid=\".0.1.1.3.$14831.0.0.0.2\">Zygarde-Complete</span></span></a></div><div class=\"PokemonAltRow-types\" data-reactid=\".0.1.1.3.$14831.1\"><ul class=\"TypeList\" data-reactid=\".0.1.1.3.$14831.1.0\"><li data-reactid=\".0.1.1.3.$14831.1.0.$Dragon\"><a class=\"Type dragon\" data-reactid=\".0.1.1.3.$14831.1.0.$Dragon.0\" href=\"/dex/sv/types/dragon/\">Dragon</a></li><li data-reactid=\".0.1.1.3.$14831.1.0.$Ground\"><a class=\"Type ground\" data-reactid=\".0.1.1.3.$14831.1.0.$Ground.0\" href=\"/dex/sv/types/ground/\">Ground</a></li></ul></div><div class=\"PokemonAltRow-abilities\" data-reactid=\".0.1.1.3.$14831.2\"><ul class=\"AbilityList\" data-reactid=\".0.1.1.3.$14831.2.0\"><li data-reactid=\".0.1.1.3.$14831.2.0.$Power Construct\"><a class=\"AbilityLink\" data-reactid=\".0.1.1.3.$14831.2.0.$Power Construct.0\" href=\"/dex/sv/abilities/power-construct/\"><span data-reactid=\".0.1.1.3.$14831.2.0.$Power Construct.0.0\">Power Construct</span><div class=\"AbilityPreview\" data-reactid=\".0.1.1.3.$14831.2.0.$Power Construct.0.1\">If Zygarde 10%/50%, changes to Complete if at 1/2 max HP or less at end of turn.</div></a></li></ul></div><div class=\"PokemonAltRow-abilities\" data-reactid=\".0.1.1.3.$14831.3\"><ul class=\"AbilityList\" data-reactid=\".0.1.1.3.$14831.3.0\"></ul></div><div class=\"PokemonAltRow-tags\" data-reactid=\".0.1.1.3.$14831.4\"><ul class=\"FormatList\" data-reactid=\".0.1.1.3.$14831.4.0\"><li data-reactid=\".0.1.1.3.$14831.4.0.$National Dex\"><a data-reactid=\".0.1.1.3.$14831.4.0.$National Dex.0\" href=\"/dex/sv/formats/national-dex/\">National Dex</a></li></ul></div><div class=\"PokemonAltRow-hp\" data-reactid=\".0.1.1.3.$14831.5\"><div class=\"stat\" data-reactid=\".0.1.1.3.$14831.5.0\">HP</div><span data-reactid=\".0.1.1.3.$14831.5.1\">216</span></div><div class=\"PokemonAltRow-atk\" data-reactid=\".0.1.1.3.$14831.6\"><div class=\"stat\" data-reactid=\".0.1.1.3.$14831.6.0\">Atk</div><span data-reactid=\".0.1.1.3.$14831.6.1\">100</span></div><div class=\"PokemonAltRow-def\" data-reactid=\".0.1.1.3.$14831.7\"><div class=\"stat\" data-reactid=\".0.1.1.3.$14831.7.0\">Def</div><span data-reactid=\".0.1.1.3.$14831.7.1\">121</span></div><div class=\"PokemonAltRow-spa\" data-reactid=\".0.1.1.3.$14831.8\"><div class=\"stat\" data-reactid=\".0.1.1.3.$14831.8.0\">SpA</div><span data-reactid=\".0.1.1.3.$14831.8.1\">91</span></div><div class=\"PokemonAltRow-spd\" data-reactid=\".0.1.1.3.$14831.9\"><div class=\"stat\" data-reactid=\".0.1.1.3.$14831.9.0\">SpD</div><span data-reactid=\".0.1.1.3.$14831.9.1\">95</span></div><div class=\"PokemonAltRow-spe\" data-reactid=\".0.1.1.3.$14831.a\"><div class=\"stat\" data-reactid=\".0.1.1.3.$14831.a.0\">Spe</div><span data-reactid=\".0.1.1.3.$14831.a.1\">85</span></div></div>"
      ]
     },
     "execution_count": 49,
     "metadata": {},
     "output_type": "execute_result"
    }
   ],
   "source": [
    "with open('pokedata.txt','a') as f:\n",
    "    for line in l:\n",
    "        f.writelines(line)"
   ]
  },
  {
   "cell_type": "code",
   "execution_count": null,
   "metadata": {},
   "outputs": [],
   "source": [
    "# with open('abcd.txt','w') as f:\n",
    "#     f.writelines(str(l))"
   ]
  }
 ],
 "metadata": {
  "kernelspec": {
   "display_name": "Python 3",
   "language": "python",
   "name": "python3"
  },
  "language_info": {
   "codemirror_mode": {
    "name": "ipython",
    "version": 3
   },
   "file_extension": ".py",
   "mimetype": "text/x-python",
   "name": "python",
   "nbconvert_exporter": "python",
   "pygments_lexer": "ipython3",
   "version": "3.11.5"
  }
 },
 "nbformat": 4,
 "nbformat_minor": 2
}
